{
  "nbformat": 4,
  "nbformat_minor": 0,
  "metadata": {
    "colab": {
      "name": "ising_3to2",
      "provenance": [],
      "collapsed_sections": [],
      "toc_visible": true,
      "include_colab_link": true
    },
    "kernelspec": {
      "name": "python3",
      "display_name": "Python 3"
    },
    "accelerator": "GPU"
  },
  "cells": [
    {
      "cell_type": "markdown",
      "metadata": {
        "id": "view-in-github",
        "colab_type": "text"
      },
      "source": [
        "<a href=\"https://colab.research.google.com/github/Itsuki-Hamano123/Quantum_prac/blob/master/ising_3to2.ipynb\" target=\"_parent\"><img src=\"https://colab.research.google.com/assets/colab-badge.svg\" alt=\"Open In Colab\"/></a>"
      ]
    },
    {
      "cell_type": "code",
      "metadata": {
        "id": "qrFcIpq1tqS9",
        "colab_type": "code",
        "outputId": "99d1daa7-9dee-4502-a2c9-09b3c5057886",
        "colab": {
          "base_uri": "https://localhost:8080/",
          "height": 125
        }
      },
      "source": [
        "from google.colab import drive\n",
        "drive.mount('/content/drive')"
      ],
      "execution_count": 0,
      "outputs": [
        {
          "output_type": "stream",
          "text": [
            "Go to this URL in a browser: https://accounts.google.com/o/oauth2/auth?client_id=947318989803-6bn6qk8qdgf4n4g3pfee6491hc0brc4i.apps.googleusercontent.com&redirect_uri=urn%3Aietf%3Awg%3Aoauth%3A2.0%3Aoob&scope=email%20https%3A%2F%2Fwww.googleapis.com%2Fauth%2Fdocs.test%20https%3A%2F%2Fwww.googleapis.com%2Fauth%2Fdrive%20https%3A%2F%2Fwww.googleapis.com%2Fauth%2Fdrive.photos.readonly%20https%3A%2F%2Fwww.googleapis.com%2Fauth%2Fpeopleapi.readonly&response_type=code\n",
            "\n",
            "Enter your authorization code:\n",
            "··········\n",
            "Mounted at /content/drive\n"
          ],
          "name": "stdout"
        }
      ]
    },
    {
      "cell_type": "code",
      "metadata": {
        "id": "a4ko1vAkuMBv",
        "colab_type": "code",
        "outputId": "ca966098-f127-49b5-a966-1580450a2cfe",
        "colab": {
          "base_uri": "https://localhost:8080/",
          "height": 34
        }
      },
      "source": [
        "cd drive/My Drive/量子コンピュータ練習/ナレッジ用に解く"
      ],
      "execution_count": 0,
      "outputs": [
        {
          "output_type": "stream",
          "text": [
            "/content/drive/My Drive/量子コンピュータ練習/ナレッジ用に解く\n"
          ],
          "name": "stdout"
        }
      ]
    },
    {
      "cell_type": "markdown",
      "metadata": {
        "id": "RRY0LyEett7A",
        "colab_type": "text"
      },
      "source": [
        "#組み合わせ最適化問題を定式化する際に起きる多体問題を、補助変数を使って２体問題に落とし込む"
      ]
    },
    {
      "cell_type": "markdown",
      "metadata": {
        "id": "T95vlhIvXsyR",
        "colab_type": "text"
      },
      "source": [
        "東工大の西森先生の「[量子アニーリングの基礎](https://www.amazon.co.jp/%E9%87%8F%E5%AD%90%E3%82%A2%E3%83%8B%E3%83%BC%E3%83%AA%E3%83%B3%E3%82%B0%E3%81%AE%E5%9F%BA%E7%A4%8E-%E5%9F%BA%E6%9C%AC%E6%B3%95%E5%89%87%E3%81%8B%E3%82%89%E8%AA%AD%E3%81%BF%E8%A7%A3%E3%81%8F%E7%89%A9%E7%90%86%E5%AD%A6%E6%9C%80%E5%89%8D%E7%B7%9A-18-%E8%A5%BF%E6%A3%AE-%E7%A7%80%E7%A8%94/dp/4320035380/ref=sr_1_1?adgrpid=52917110065&gclid=EAIaIQobChMI4L2Fv4un4gIVVqWWCh0lbQ_9EAAYASAAEgIh5_D_BwE&hvadid=338550746380&hvdev=c&hvlocphy=1009332&hvnetw=g&hvpos=1t1&hvqmt=e&hvrand=12758953271038180148&hvtargid=kwd-463635452634&hydadcr=4073_10899429&jp-ad-ap=0&keywords=%E9%87%8F%E5%AD%90%E3%82%A2%E3%83%8B%E3%83%BC%E3%83%AA%E3%83%B3%E3%82%B0%E3%81%AE%E5%9F%BA%E7%A4%8E&qid=1558251615&s=gateway&sr=8-1)」という本を購入しました。\n",
        "その本の中で、問題を定式化した際に起きる多体問題を2体問題に落とし込む方法が記載してあったので、実際に試してみようと思います。\n",
        "***\n",
        "**今回の解きたい最適化問題**<br>\n",
        "以前の記事で多体問題となった、$ab=3$を満たすときの整数$a,b$の組み合わせを探します。<br>\n",
        "**解く手順**<br>\n",
        "1. 問題をコスト関数に定式化\n",
        "2. 補助変数を使って多体問題を2体問題に落とし込む\n",
        "3. コスト関数（問題と補助変数の制約条件）をQUBOに変換\n",
        "4. SAで最適解を求める\n",
        "\n",
        "***"
      ]
    },
    {
      "cell_type": "markdown",
      "metadata": {
        "id": "gxXefBfycDNf",
        "colab_type": "text"
      },
      "source": [
        "# 問題をコスト関数に定式化\n",
        "$ab=3$を満たす整数$a,b$の組み合わせを探すため、最小二乗法を使って以下のコスト関数にします。\n",
        "$0=\\{(a*b)-3\\}^2$\n",
        "\n",
        "各量子ビットはバイナリ値を取るため、整数値を表現できるよう$a=q_0+2q_1$、$b=q_2+2q_3$とおき、先ほどのコスト関数に代入します。\n",
        "$0=[\\{(q_0+2q_1)*(q_2+2q_3)\\}-3]^2$\n",
        "\n",
        "式を展開します。\n"
      ]
    },
    {
      "cell_type": "code",
      "metadata": {
        "id": "gW4pCDvId4_m",
        "colab_type": "code",
        "outputId": "a90dafd0-44cf-4132-d122-934cbee2f0c7",
        "colab": {
          "base_uri": "https://localhost:8080/",
          "height": 54
        }
      },
      "source": [
        "from sympy import *\n",
        "q0,q1,q2,q3=symbols(\"q0 q1 q2 q3\")\n",
        "f=((q0+2*q1)*(q2+2*q3)-3)**2\n",
        "print(expand(f))#式の展開"
      ],
      "execution_count": 0,
      "outputs": [
        {
          "output_type": "stream",
          "text": [
            "q0**2*q2**2 + 4*q0**2*q2*q3 + 4*q0**2*q3**2 + 4*q0*q1*q2**2 + 16*q0*q1*q2*q3 + 16*q0*q1*q3**2 - 6*q0*q2 - 12*q0*q3 + 4*q1**2*q2**2 + 16*q1**2*q2*q3 + 16*q1**2*q3**2 - 12*q1*q2 - 24*q1*q3 + 9\n"
          ],
          "name": "stdout"
        }
      ]
    },
    {
      "cell_type": "markdown",
      "metadata": {
        "id": "nVajvKl_ezin",
        "colab_type": "text"
      },
      "source": [
        "$q_0^2q_2^2+4q_0^2q_2q_3+4q_0^2q_3^2+4q_0q_1q_2^2+16q_0q_1q_2q_3+16q_0q_1q_3^2-6q_0q_2-12q_0q_3+4q_1^2q_2^2+16q_1^2q_2q_3+16q_1^2q_3^2-12q_1q_2-24q_1q_3+9$<br>\n",
        "各量子ビットがバイナリ値を取り、二乗しても値が変わらない（$q_i=q_i^2$）ため、指数部が取れます。\n",
        "\n",
        "$q_0q_2+4q_0q_2q_3+4q_0q_3+4q_0q_1q_2+16q_0q_1q_2q_3+16q_0q_1q_3-6q_0q_2-12q_0q_3+4q_1q_2+16q_1q_2q_3+16q_1q_3-12q_1q_2-24q_1q_3+9$\n",
        "\n",
        "式を整理\n",
        "$-5q_0q_2+4q_0q_2q_3-8q_0q_3+4q_0q_1q_2+16q_0q_1q_2q_3+16q_0q_1q_3-8q_1q_2+16q_1q_2q_3-8q_1q_3+9$<br>"
      ]
    },
    {
      "cell_type": "markdown",
      "metadata": {
        "id": "rW7bWSEG-L2F",
        "colab_type": "text"
      },
      "source": [
        "#補助変数を使って多体問題を２体問題に落とし込む"
      ]
    },
    {
      "cell_type": "markdown",
      "metadata": {
        "id": "PSxoZJZzmErG",
        "colab_type": "text"
      },
      "source": [
        "例えば、３体相互作用$q_0q_1q_2$を２体問題に置き換えたいとした時、積$q_0q_1$を新たな二値変数$q_4$（=0,1）で置き換えて、$q_4q_2$と書けば見かけ上、２体問題になります。ただし、$q_0q_1$と$q_4$が等しくなるように、$q_0q_1=q_4$が成り立たないとエネルギーが高くなって基底状態から外れるような制約条件を考えます。<br>\n",
        "\n",
        "|$q_0$|$q_1$|$q_4$|$H_p$|\n",
        "|:-:|:-:|:-:|:-:|\n",
        "|0|0|0|0|\n",
        "|1|0|0|0|\n",
        "|0|1|0|0|\n",
        "|1|1|0|1|\n",
        "|0|0|1|3|\n",
        "|0|1|1|1|\n",
        "|1|0|1|1|\n",
        "|1|1|1|0|\n",
        "\n",
        "\n",
        "制約条件のコスト関数\n",
        "$H_p=3q_4+q_0q_1-2q_0q_4-2q_1q_4$\n",
        "\n",
        "（同様に積$q_2q_3$も新たな変数$q_5$に置き換えた時の制約条件のコスト関数）\n",
        "$H_p=3q_5+q_2q_3-2q_2q_5-2q_3q_5$"
      ]
    },
    {
      "cell_type": "markdown",
      "metadata": {
        "id": "3_4qF-ne0nFV",
        "colab_type": "text"
      },
      "source": [
        "問題のコスト関数\n",
        "$-5q_0q_2+4q_0q_2q_3-8q_0q_3+4q_0q_1q_2+16q_0q_1q_2q_3+16q_0q_1q_3-8q_1q_2+16q_1q_2q_3-8q_1q_3+9$"
      ]
    },
    {
      "cell_type": "markdown",
      "metadata": {
        "id": "9MfMQZiYvhkS",
        "colab_type": "text"
      },
      "source": [
        "に、$q_0q_1=q_4,q_2q_3=q_5$を代入します。\n"
      ]
    },
    {
      "cell_type": "markdown",
      "metadata": {
        "id": "c292sLGW0rxT",
        "colab_type": "text"
      },
      "source": [
        "$-5q_0q_2+4q_0q_5-8q_0q_3+4q_2q_4+16q_4q_5+16q_3q_4-8q_1q_2+16q_1q_5-8q_1q_3+9$"
      ]
    },
    {
      "cell_type": "markdown",
      "metadata": {
        "id": "gZDCNOKvcCO0",
        "colab_type": "text"
      },
      "source": [
        "# それぞれのコスト関数をQUBOに変換\n",
        "問題のコスト関数をQUBOに変換\n",
        "\n",
        "||$q_0$|$q_1$|$q_2$|$q_3$|$q_4$|$q_5$|\n",
        "|:-:|:-:|:-:|:-:|:-:|:-:|:-:|\n",
        "|$q_0$|0|0|-5|-8|0|4|\n",
        "|$q_1$|0|0|-8|-8|0|16|\n",
        "|$q_2$|0|0|0|0|4|0|\n",
        "|$q_3$|0|0|0|0|16|0|\n",
        "|$q_4$|0|0|0|0|0|16|\n",
        "|$q_5$|0|0|0|0|0|0|\n",
        "\n",
        "制約条件のコスト関数をQUBOに変換\n",
        "\n",
        "||$q_0$|$q_1$|$q_2$|$q_3$|$q_4$|$q_5$|\n",
        "|:-:|:-:|:-:|:-:|:-:|:-:|:-:|\n",
        "|$q_0$|0|1|0|0|-2|0|\n",
        "|$q_1$|0|0|0|0|-2|0|\n",
        "|$q_2$|0|0|0|1|0|-2|\n",
        "|$q_3$|0|0|0|0|0|-2|\n",
        "|$q_4$|0|0|0|0|3|0|\n",
        "|$q_5$|0|0|0|0|0|3|"
      ]
    },
    {
      "cell_type": "markdown",
      "metadata": {
        "id": "ZtFvecX37cyd",
        "colab_type": "text"
      },
      "source": [
        "# ２つのQUBOを組み合わせSAで組み合わせを求める"
      ]
    },
    {
      "cell_type": "code",
      "metadata": {
        "id": "5PXu8gA136Qk",
        "colab_type": "code",
        "colab": {}
      },
      "source": [
        "!pip install wildqat"
      ],
      "execution_count": 0,
      "outputs": []
    },
    {
      "cell_type": "code",
      "metadata": {
        "id": "7U9NLs277oCR",
        "colab_type": "code",
        "outputId": "9ab83bd9-72c9-45f3-d468-129e3cb44112",
        "colab": {
          "base_uri": "https://localhost:8080/",
          "height": 122
        }
      },
      "source": [
        "import wildqat as wq\n",
        "import numpy as np\n",
        "a = wq.opt()\n",
        "\n",
        "qubo1 = np.array([[0,0,-5,-8,0,4],[0,0,-8,-8,0,16],[0,0,0,0,4,0],[0,0,0,0,16,0],[0,0,0,0,0,16],[0,0,0,0,0,0]])\n",
        "qubo2=np.array([[0,1,0,0,-2,0],[0,0,0,0,-2,0],[0,0,0,1,0,-2],[0,0,0,0,0,-2],[0,0,0,0,3,0],[0,0,0,0,0,3]])\n",
        "\n",
        "qubo=(0.01*qubo1)+0.7*qubo2\n",
        "#qubo=qubo1+qubo2\n",
        "print(qubo)"
      ],
      "execution_count": 0,
      "outputs": [
        {
          "output_type": "stream",
          "text": [
            "[[ 0.    0.7  -0.05 -0.08 -1.4   0.04]\n",
            " [ 0.    0.   -0.08 -0.08 -1.4   0.16]\n",
            " [ 0.    0.    0.    0.7   0.04 -1.4 ]\n",
            " [ 0.    0.    0.    0.    0.16 -1.4 ]\n",
            " [ 0.    0.    0.    0.    2.1   0.16]\n",
            " [ 0.    0.    0.    0.    0.    2.1 ]]\n"
          ],
          "name": "stdout"
        }
      ]
    },
    {
      "cell_type": "code",
      "metadata": {
        "id": "44_P5h7786g9",
        "colab_type": "code",
        "outputId": "692d4bd6-c0bb-4b89-e402-848c95c45157",
        "colab": {
          "base_uri": "https://localhost:8080/",
          "height": 1933
        }
      },
      "source": [
        "a.qubo=qubo\n",
        "result=a.run(shots=100,sampler=\"fast\",verbose=True)\n",
        "wq.counter(result)"
      ],
      "execution_count": 0,
      "outputs": [
        {
          "output_type": "stream",
          "text": [
            "0 : [1, 0, 1, 1, 0, 1]\n",
            "1 : [1, 1, 1, 0, 1, 0]\n",
            "2 : [1, 0, 1, 1, 0, 1]\n",
            "3 : [0, 1, 1, 0, 0, 0]\n",
            "4 : [1, 1, 1, 0, 1, 0]\n",
            "5 : [1, 0, 1, 1, 0, 1]\n",
            "6 : [1, 0, 0, 1, 0, 0]\n",
            "7 : [1, 0, 0, 1, 0, 0]\n",
            "8 : [1, 1, 1, 0, 1, 0]\n",
            "9 : [1, 0, 0, 1, 0, 0]\n",
            "10 : [0, 1, 0, 1, 0, 0]\n",
            "11 : [1, 0, 1, 0, 0, 0]\n",
            "12 : [0, 1, 0, 1, 0, 0]\n",
            "13 : [1, 0, 1, 1, 0, 1]\n",
            "14 : [1, 0, 1, 1, 0, 1]\n",
            "15 : [1, 0, 1, 1, 0, 1]\n",
            "16 : [1, 0, 1, 1, 0, 1]\n",
            "17 : [1, 0, 0, 1, 0, 0]\n",
            "18 : [1, 0, 1, 1, 0, 1]\n",
            "19 : [1, 0, 0, 1, 0, 0]\n",
            "20 : [0, 1, 0, 1, 0, 0]\n",
            "21 : [1, 1, 1, 0, 1, 0]\n",
            "22 : [1, 0, 1, 1, 0, 1]\n",
            "23 : [0, 1, 1, 0, 0, 0]\n",
            "24 : [1, 0, 1, 1, 0, 1]\n",
            "25 : [1, 0, 1, 1, 0, 1]\n",
            "26 : [0, 0, 0, 1, 0, 0]\n",
            "27 : [1, 0, 1, 0, 0, 0]\n",
            "28 : [1, 0, 0, 1, 0, 0]\n",
            "29 : [1, 0, 0, 1, 0, 0]\n",
            "30 : [0, 1, 1, 0, 0, 0]\n",
            "31 : [1, 1, 1, 0, 1, 0]\n",
            "32 : [1, 0, 0, 1, 0, 0]\n",
            "33 : [1, 0, 1, 1, 0, 1]\n",
            "34 : [1, 1, 1, 1, 1, 1]\n",
            "35 : [1, 0, 1, 1, 0, 1]\n",
            "36 : [0, 1, 1, 0, 0, 0]\n",
            "37 : [1, 0, 1, 0, 0, 0]\n",
            "38 : [1, 0, 1, 1, 0, 1]\n",
            "39 : [1, 1, 1, 0, 1, 0]\n",
            "40 : [0, 1, 1, 0, 0, 0]\n",
            "41 : [1, 0, 1, 0, 0, 0]\n",
            "42 : [1, 0, 0, 1, 0, 0]\n",
            "43 : [0, 1, 0, 1, 0, 0]\n",
            "44 : [0, 1, 0, 1, 0, 0]\n",
            "45 : [1, 0, 1, 0, 0, 0]\n",
            "46 : [1, 0, 1, 1, 0, 1]\n",
            "47 : [1, 0, 1, 1, 0, 1]\n",
            "48 : [1, 0, 1, 0, 0, 0]\n",
            "49 : [1, 1, 1, 0, 1, 0]\n",
            "50 : [1, 1, 1, 0, 1, 0]\n",
            "51 : [1, 0, 0, 1, 0, 0]\n",
            "52 : [1, 1, 1, 0, 1, 0]\n",
            "53 : [0, 1, 1, 0, 0, 0]\n",
            "54 : [0, 1, 1, 0, 0, 0]\n",
            "55 : [0, 1, 0, 1, 0, 0]\n",
            "56 : [1, 0, 0, 1, 0, 0]\n",
            "57 : [0, 1, 0, 1, 0, 0]\n",
            "58 : [1, 1, 1, 0, 1, 0]\n",
            "59 : [1, 0, 1, 1, 0, 1]\n",
            "60 : [1, 1, 1, 0, 1, 0]\n",
            "61 : [1, 1, 1, 0, 1, 0]\n",
            "62 : [0, 1, 0, 1, 0, 0]\n",
            "63 : [1, 0, 0, 1, 0, 0]\n",
            "64 : [0, 1, 0, 1, 0, 0]\n",
            "65 : [0, 1, 1, 0, 0, 0]\n",
            "66 : [0, 1, 1, 0, 0, 0]\n",
            "67 : [1, 0, 1, 0, 0, 0]\n",
            "68 : [1, 0, 0, 1, 0, 0]\n",
            "69 : [0, 1, 0, 1, 0, 0]\n",
            "70 : [0, 1, 0, 1, 0, 0]\n",
            "71 : [1, 0, 1, 1, 0, 1]\n",
            "72 : [1, 0, 0, 1, 0, 0]\n",
            "73 : [1, 0, 1, 1, 0, 1]\n",
            "74 : [0, 1, 0, 1, 0, 0]\n",
            "75 : [1, 0, 0, 1, 0, 0]\n",
            "76 : [0, 1, 0, 1, 0, 0]\n",
            "77 : [1, 0, 1, 1, 0, 1]\n",
            "78 : [0, 1, 1, 0, 0, 0]\n",
            "79 : [1, 0, 1, 1, 0, 1]\n",
            "80 : [1, 1, 1, 0, 1, 0]\n",
            "81 : [1, 0, 0, 1, 0, 0]\n",
            "82 : [1, 0, 1, 0, 0, 0]\n",
            "83 : [1, 1, 1, 0, 1, 0]\n",
            "84 : [1, 1, 0, 1, 1, 0]\n",
            "85 : [1, 1, 1, 0, 1, 0]\n",
            "86 : [1, 1, 1, 0, 1, 0]\n",
            "87 : [0, 1, 0, 1, 0, 0]\n",
            "88 : [1, 1, 1, 0, 1, 0]\n",
            "89 : [1, 0, 1, 1, 0, 1]\n",
            "90 : [1, 0, 1, 1, 0, 1]\n",
            "91 : [0, 1, 1, 0, 0, 0]\n",
            "92 : [1, 0, 0, 1, 0, 0]\n",
            "93 : [0, 1, 0, 1, 0, 0]\n",
            "94 : [1, 1, 1, 1, 1, 1]\n",
            "95 : [0, 1, 0, 1, 0, 0]\n",
            "96 : [0, 1, 1, 0, 0, 0]\n",
            "97 : [1, 0, 1, 1, 0, 1]\n",
            "98 : [1, 1, 1, 0, 1, 0]\n",
            "99 : [1, 0, 1, 1, 0, 1]\n"
          ],
          "name": "stdout"
        },
        {
          "output_type": "execute_result",
          "data": {
            "text/plain": [
              "Counter({'000100': 1,\n",
              "         '010100': 16,\n",
              "         '011000': 12,\n",
              "         '100100': 17,\n",
              "         '101000': 8,\n",
              "         '101101': 25,\n",
              "         '110110': 1,\n",
              "         '111010': 18,\n",
              "         '111111': 2})"
            ]
          },
          "metadata": {
            "tags": []
          },
          "execution_count": 33
        }
      ]
    },
    {
      "cell_type": "markdown",
      "metadata": {
        "id": "puugv2cVYNRM",
        "colab_type": "text"
      },
      "source": [
        "最も多く観測されたのは、25回の'101101'と、次に多く観測されたのは'、18回の111010'でした。<br>\n",
        "今回の解きたい問題であった$ab=3$と、補助変数の制約条件$q_0q_1=q_4,q_2q_3=q_5$を満たしていることが分かります。<br>\n",
        "**この結果から、補助変数を使うと多体問題を２体問題に落とし込めることが分かります。<br>\n",
        "しかし、余計な結果もそれなりに出現しており、補助変数を設けることで少し精度が落ちるみたいです。そのためコスト関数を組み合わせる際のハイパーパラメータの調整が、よりシビアになり、ハイパーパラメータの調整に最適化手法を用いてあげる必要がありそうです。**"
      ]
    },
    {
      "cell_type": "code",
      "metadata": {
        "id": "xB0u3AyZYTaw",
        "colab_type": "code",
        "colab": {}
      },
      "source": [
        ""
      ],
      "execution_count": 0,
      "outputs": []
    }
  ]
}