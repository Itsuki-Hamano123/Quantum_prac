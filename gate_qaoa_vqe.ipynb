{
  "nbformat": 4,
  "nbformat_minor": 0,
  "metadata": {
    "colab": {
      "name": "gate_qaoa_vqe",
      "provenance": [],
      "collapsed_sections": [],
      "toc_visible": true,
      "include_colab_link": true
    },
    "kernelspec": {
      "name": "python3",
      "display_name": "Python 3"
    },
    "accelerator": "GPU"
  },
  "cells": [
    {
      "cell_type": "markdown",
      "metadata": {
        "id": "view-in-github",
        "colab_type": "text"
      },
      "source": [
        "<a href=\"https://colab.research.google.com/github/Itsuki-Hamano123/Quantum_prac/blob/master/gate_qaoa_vqe.ipynb\" target=\"_parent\"><img src=\"https://colab.research.google.com/assets/colab-badge.svg\" alt=\"Open In Colab\"/></a>"
      ]
    },
    {
      "cell_type": "code",
      "metadata": {
        "id": "qrFcIpq1tqS9",
        "colab_type": "code",
        "outputId": "99d1daa7-9dee-4502-a2c9-09b3c5057886",
        "colab": {
          "base_uri": "https://localhost:8080/",
          "height": 125
        }
      },
      "source": [
        "from google.colab import drive\n",
        "drive.mount('/content/drive')"
      ],
      "execution_count": 0,
      "outputs": [
        {
          "output_type": "stream",
          "text": [
            "Go to this URL in a browser: https://accounts.google.com/o/oauth2/auth?client_id=947318989803-6bn6qk8qdgf4n4g3pfee6491hc0brc4i.apps.googleusercontent.com&redirect_uri=urn%3Aietf%3Awg%3Aoauth%3A2.0%3Aoob&scope=email%20https%3A%2F%2Fwww.googleapis.com%2Fauth%2Fdocs.test%20https%3A%2F%2Fwww.googleapis.com%2Fauth%2Fdrive%20https%3A%2F%2Fwww.googleapis.com%2Fauth%2Fdrive.photos.readonly%20https%3A%2F%2Fwww.googleapis.com%2Fauth%2Fpeopleapi.readonly&response_type=code\n",
            "\n",
            "Enter your authorization code:\n",
            "··········\n",
            "Mounted at /content/drive\n"
          ],
          "name": "stdout"
        }
      ]
    },
    {
      "cell_type": "code",
      "metadata": {
        "id": "a4ko1vAkuMBv",
        "colab_type": "code",
        "outputId": "ca966098-f127-49b5-a966-1580450a2cfe",
        "colab": {
          "base_uri": "https://localhost:8080/",
          "height": 34
        }
      },
      "source": [
        "cd drive/My Drive/量子コンピュータ練習/ナレッジ用に解く"
      ],
      "execution_count": 0,
      "outputs": [
        {
          "output_type": "stream",
          "text": [
            "/content/drive/My Drive/量子コンピュータ練習/ナレッジ用に解く\n"
          ],
          "name": "stdout"
        }
      ]
    },
    {
      "cell_type": "code",
      "metadata": {
        "id": "5PXu8gA136Qk",
        "colab_type": "code",
        "colab": {}
      },
      "source": [
        "!pip install wildqat\n",
        "!pip install blueqat"
      ],
      "execution_count": 0,
      "outputs": []
    },
    {
      "cell_type": "markdown",
      "metadata": {
        "id": "RRY0LyEett7A",
        "colab_type": "text"
      },
      "source": [
        "#量子ゲートで組み合わせ最適化を行う\n",
        "参考サイト（https://qiita.com/YuichiroMinato/items/a13ad99162e29de94f01#%E3%81%AF%E3%81%98%E3%82%81%E3%81%AB）"
      ]
    },
    {
      "cell_type": "markdown",
      "metadata": {
        "id": "ll-yCe5oBldM",
        "colab_type": "text"
      },
      "source": [
        "現在の量子ゲートマシンは、NISQ（Noisy Intermediate-Scale Quantum Computer）と言われる「誤り訂正無しエラーあり中規模マシン」が使われています。\n",
        "\n",
        "量子コンピュータは量子の重ね合わせ状態を利用し演算を行うのですが、ハードの制約上、ノイズを受けたり、計算時間が長すぎると量子状態が壊れてしまい正しい結果を得ることができません。壊れた量子状態を正す、誤り訂正が実装された量子ゲートマシンが理想ですが、まだ研究途中で実用化されるのは、かなり先になりそうです。（2050年くらいという研究者もいるくらい）\n",
        "\n",
        "しかし、そこで悲観せずに、理想の量子コンピュータが出る前に、量子コンピュータの有用性を見出すために、実験的にプロトタイプとしてNISQが用いられています。"
      ]
    },
    {
      "cell_type": "markdown",
      "metadata": {
        "id": "Zrq2aLHkFN3A",
        "colab_type": "text"
      },
      "source": [
        "NISQを上手く使うためには、少し工夫が必要になります。それは、NISQでの計算時間を、量子状態が壊れるよりも前に終わるよう、短くする工夫です。\n",
        "\n",
        "そこで、例えば、１つの数式を分割し、複数回に分けてNISQで計算し、集計と最適化を古典コンピュータで行う、量子・古典ハイブリットアルゴリズムなどが提案されています。\n",
        "今回は、この量子・古典ハイブリットアルゴリズムの内、QAOAとVQEを使い、コスト関数（イジングモデル）の最適化計算を行ってみます。"
      ]
    },
    {
      "cell_type": "markdown",
      "metadata": {
        "id": "RCV9HV_9_7TR",
        "colab_type": "text"
      },
      "source": [
        "**解きたい問題<br>**\n",
        "$ab=3$を満たす整数$a,b$の組み合わせを探す（iging_3to2.ipynbと同じ）\n"
      ]
    },
    {
      "cell_type": "markdown",
      "metadata": {
        "id": "utg08bkdGmQB",
        "colab_type": "text"
      },
      "source": [
        "**解く手順**\n",
        "1. 問題の定式化\n",
        "2. QAOAとVQEを使って解を求める"
      ]
    },
    {
      "cell_type": "markdown",
      "metadata": {
        "id": "gxXefBfycDNf",
        "colab_type": "text"
      },
      "source": [
        "# QAOAとは\n",
        "QAOAとは、量子アニーリングマシンで動いている量子断熱計算アルゴリズム（SAの量子版）をベースに、量子ゲートで組み合わせ最適化問題の近似解を求めるためのアルゴリズムです。\n",
        "\n",
        "\n",
        "\n"
      ]
    },
    {
      "cell_type": "code",
      "metadata": {
        "id": "7U9NLs277oCR",
        "colab_type": "code",
        "outputId": "f4ac118e-0d69-4647-a11a-46a4f047a585",
        "colab": {
          "base_uri": "https://localhost:8080/",
          "height": 122
        }
      },
      "source": [
        "import wildqat as wq\n",
        "import numpy as np\n",
        "from blueqat import vqe\n",
        "a = wq.opt()\n",
        "\n",
        "qubo1 = np.array([[0,0,-5,-8,0,4],[0,0,-8,-8,0,16],[0,0,0,0,4,0],[0,0,0,0,16,0],[0,0,0,0,0,16],[0,0,0,0,0,0]])\n",
        "qubo2=np.array([[0,1,0,0,-2,0],[0,0,0,0,-2,0],[0,0,0,1,0,-2],[0,0,0,0,0,-2],[0,0,0,0,3,0],[0,0,0,0,0,3]])\n",
        "\n",
        "qubo=(0.01*qubo1)+(0.7*qubo2)\n",
        "print(qubo)"
      ],
      "execution_count": 0,
      "outputs": [
        {
          "output_type": "stream",
          "text": [
            "[[ 0.    0.7  -0.05 -0.08 -1.4   0.04]\n",
            " [ 0.    0.   -0.08 -0.08 -1.4   0.16]\n",
            " [ 0.    0.    0.    0.7   0.04 -1.4 ]\n",
            " [ 0.    0.    0.    0.    0.16 -1.4 ]\n",
            " [ 0.    0.    0.    0.    2.1   0.16]\n",
            " [ 0.    0.    0.    0.    0.    2.1 ]]\n"
          ],
          "name": "stdout"
        }
      ]
    },
    {
      "cell_type": "markdown",
      "metadata": {
        "id": "RLuJ_uusIeSA",
        "colab_type": "text"
      },
      "source": [
        "計算精度の調整はstep数で行います。stepというところを増やしたり減らしたりすることで精度と計算速度を調整できます。問題サイズが大きくなるとstep数を増やすことを推奨します。"
      ]
    },
    {
      "cell_type": "code",
      "metadata": {
        "id": "gW4pCDvId4_m",
        "colab_type": "code",
        "outputId": "e8e96b17-3159-4e6a-be0f-f1b884b7f6b6",
        "colab": {
          "base_uri": "https://localhost:8080/",
          "height": 54
        }
      },
      "source": [
        "#step=25だと3分くらい時間かかった気がする\n",
        "step = 25\n",
        "qubo_pauli=wq.pauli(qubo)\n",
        "result = vqe.Vqe(vqe.QaoaAnsatz(qubo_pauli,step)).run()\n",
        "print(result.most_common(5))"
      ],
      "execution_count": 0,
      "outputs": [
        {
          "output_type": "stream",
          "text": [
            "(((1, 1, 1, 0, 1, 0), 0.14806066716377012), ((1, 0, 1, 1, 0, 1), 0.14806066716376992), ((0, 0, 0, 0, 0, 0), 0.129546916356916), ((1, 1, 0, 0, 1, 0), 0.06518684288587578), ((0, 0, 1, 1, 0, 1), 0.06518684288587578))\n"
          ],
          "name": "stdout"
        }
      ]
    },
    {
      "cell_type": "code",
      "metadata": {
        "id": "44_P5h7786g9",
        "colab_type": "code",
        "outputId": "f22bee38-5851-436d-b142-065c87266955",
        "colab": {
          "base_uri": "https://localhost:8080/",
          "height": 1950
        }
      },
      "source": [
        "#アニーリングで解いた場合\n",
        "a.qubo=qubo\n",
        "result=a.run(shots=100,sampler=\"fast\",verbose=True)\n",
        "wq.counter(result)"
      ],
      "execution_count": 0,
      "outputs": [
        {
          "output_type": "stream",
          "text": [
            "0 : [1, 0, 0, 1, 0, 0]\n",
            "1 : [0, 1, 1, 0, 0, 0]\n",
            "2 : [0, 1, 0, 1, 0, 0]\n",
            "3 : [1, 0, 0, 1, 0, 0]\n",
            "4 : [0, 1, 0, 1, 0, 0]\n",
            "5 : [1, 0, 1, 1, 0, 1]\n",
            "6 : [1, 0, 0, 1, 0, 0]\n",
            "7 : [1, 0, 1, 1, 0, 1]\n",
            "8 : [1, 0, 1, 1, 0, 1]\n",
            "9 : [1, 0, 1, 0, 0, 0]\n",
            "10 : [1, 0, 1, 1, 0, 1]\n",
            "11 : [1, 0, 1, 0, 0, 0]\n",
            "12 : [1, 0, 1, 1, 0, 1]\n",
            "13 : [1, 0, 1, 0, 0, 0]\n",
            "14 : [0, 1, 1, 0, 0, 0]\n",
            "15 : [1, 0, 1, 1, 0, 1]\n",
            "16 : [0, 1, 0, 1, 0, 0]\n",
            "17 : [1, 0, 1, 1, 0, 1]\n",
            "18 : [1, 1, 1, 0, 1, 0]\n",
            "19 : [1, 0, 0, 1, 0, 0]\n",
            "20 : [1, 0, 0, 1, 0, 0]\n",
            "21 : [0, 1, 1, 0, 0, 0]\n",
            "22 : [0, 1, 0, 1, 0, 0]\n",
            "23 : [0, 1, 0, 1, 0, 0]\n",
            "24 : [1, 1, 0, 1, 1, 0]\n",
            "25 : [1, 0, 1, 1, 0, 1]\n",
            "26 : [1, 1, 1, 0, 1, 0]\n",
            "27 : [1, 1, 1, 0, 1, 0]\n",
            "28 : [1, 0, 0, 1, 0, 0]\n",
            "29 : [0, 1, 0, 1, 0, 0]\n",
            "30 : [1, 1, 1, 0, 1, 0]\n",
            "31 : [0, 1, 1, 0, 0, 0]\n",
            "32 : [1, 0, 0, 1, 0, 0]\n",
            "33 : [1, 0, 0, 1, 0, 0]\n",
            "34 : [0, 1, 0, 1, 0, 0]\n",
            "35 : [0, 1, 1, 0, 0, 0]\n",
            "36 : [1, 0, 1, 1, 0, 1]\n",
            "37 : [0, 0, 0, 0, 0, 0]\n",
            "38 : [1, 0, 0, 1, 0, 0]\n",
            "39 : [1, 0, 0, 1, 0, 0]\n",
            "40 : [1, 1, 1, 0, 1, 0]\n",
            "41 : [0, 1, 1, 0, 0, 0]\n",
            "42 : [0, 1, 0, 1, 0, 0]\n",
            "43 : [1, 0, 1, 1, 0, 1]\n",
            "44 : [1, 0, 1, 0, 0, 0]\n",
            "45 : [1, 0, 0, 1, 0, 0]\n",
            "46 : [0, 0, 1, 0, 0, 0]\n",
            "47 : [1, 0, 0, 1, 0, 0]\n",
            "48 : [1, 0, 1, 1, 0, 1]\n",
            "49 : [1, 0, 1, 1, 0, 1]\n",
            "50 : [1, 0, 0, 1, 0, 0]\n",
            "51 : [1, 0, 1, 1, 0, 1]\n",
            "52 : [0, 1, 1, 0, 0, 0]\n",
            "53 : [0, 1, 1, 0, 0, 0]\n",
            "54 : [1, 0, 1, 0, 0, 0]\n",
            "55 : [1, 1, 1, 0, 1, 0]\n",
            "56 : [1, 0, 0, 1, 0, 0]\n",
            "57 : [1, 0, 1, 1, 0, 1]\n",
            "58 : [1, 1, 1, 0, 1, 0]\n",
            "59 : [0, 1, 1, 0, 0, 0]\n",
            "60 : [1, 0, 1, 1, 0, 1]\n",
            "61 : [1, 0, 1, 1, 0, 1]\n",
            "62 : [1, 1, 1, 0, 1, 0]\n",
            "63 : [1, 0, 1, 0, 0, 0]\n",
            "64 : [0, 0, 0, 0, 0, 0]\n",
            "65 : [1, 0, 1, 1, 0, 1]\n",
            "66 : [1, 0, 1, 1, 0, 1]\n",
            "67 : [1, 1, 1, 0, 1, 0]\n",
            "68 : [0, 1, 0, 0, 0, 0]\n",
            "69 : [1, 1, 1, 0, 1, 0]\n",
            "70 : [0, 1, 0, 1, 0, 0]\n",
            "71 : [0, 1, 0, 1, 0, 0]\n",
            "72 : [1, 1, 1, 0, 1, 0]\n",
            "73 : [1, 1, 1, 0, 1, 0]\n",
            "74 : [1, 0, 1, 1, 0, 1]\n",
            "75 : [1, 0, 1, 0, 0, 0]\n",
            "76 : [0, 1, 1, 0, 0, 0]\n",
            "77 : [1, 0, 0, 1, 0, 0]\n",
            "78 : [1, 0, 0, 1, 0, 0]\n",
            "79 : [1, 1, 1, 0, 1, 0]\n",
            "80 : [1, 0, 0, 1, 0, 0]\n",
            "81 : [1, 0, 1, 1, 0, 1]\n",
            "82 : [1, 1, 1, 0, 1, 0]\n",
            "83 : [0, 1, 0, 1, 0, 0]\n",
            "84 : [1, 0, 1, 1, 0, 1]\n",
            "85 : [0, 1, 0, 1, 0, 0]\n",
            "86 : [1, 1, 1, 0, 1, 0]\n",
            "87 : [0, 1, 0, 1, 0, 0]\n",
            "88 : [1, 1, 1, 0, 1, 0]\n",
            "89 : [0, 1, 1, 0, 0, 0]\n",
            "90 : [1, 1, 1, 0, 1, 0]\n",
            "91 : [1, 0, 0, 1, 0, 0]\n",
            "92 : [0, 1, 1, 0, 0, 0]\n",
            "93 : [1, 0, 1, 1, 0, 1]\n",
            "94 : [1, 0, 1, 1, 0, 1]\n",
            "95 : [0, 1, 0, 1, 0, 0]\n",
            "96 : [0, 1, 0, 1, 0, 0]\n",
            "97 : [0, 1, 0, 1, 0, 0]\n",
            "98 : [1, 0, 1, 0, 0, 0]\n",
            "99 : [1, 0, 1, 1, 0, 1]\n"
          ],
          "name": "stdout"
        },
        {
          "output_type": "execute_result",
          "data": {
            "text/plain": [
              "Counter({'000000': 2,\n",
              "         '001000': 1,\n",
              "         '010000': 1,\n",
              "         '010100': 16,\n",
              "         '011000': 12,\n",
              "         '100100': 18,\n",
              "         '101000': 8,\n",
              "         '101101': 24,\n",
              "         '110110': 1,\n",
              "         '111010': 17})"
            ]
          },
          "metadata": {
            "tags": []
          },
          "execution_count": 15
        }
      ]
    }
  ]
}